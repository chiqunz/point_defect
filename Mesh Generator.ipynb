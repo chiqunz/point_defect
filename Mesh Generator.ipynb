{
 "cells": [
  {
   "cell_type": "markdown",
   "metadata": {},
   "source": [
    "# Mesh generator"
   ]
  },
  {
   "cell_type": "code",
   "execution_count": 8,
   "metadata": {
    "collapsed": true
   },
   "outputs": [],
   "source": [
    "import numpy as np\n",
    "import numpy.linalg as LA\n",
    "%matplotlib inline\n",
    "from matplotlib import pyplot as plt"
   ]
  },
  {
   "cell_type": "code",
   "execution_count": 9,
   "metadata": {
    "collapsed": true
   },
   "outputs": [],
   "source": [
    "xlim = 1\n",
    "ylim = 1\n",
    "num_ele = 21\n",
    "num_node = num_ele+1\n",
    "xseed = np.linspace(-xlim, xlim, num_node).reshape(num_node,1)\n",
    "yseed = np.linspace(-ylim, ylim, num_node).reshape(num_node,1)"
   ]
  },
  {
   "cell_type": "code",
   "execution_count": 10,
   "metadata": {
    "collapsed": true
   },
   "outputs": [],
   "source": [
    "coords = np.zeros((num_node**2,2))\n",
    "coords[:,0] = np.tile(xseed, (num_node, 1)).flatten()"
   ]
  },
  {
   "cell_type": "code",
   "execution_count": 11,
   "metadata": {
    "collapsed": true
   },
   "outputs": [],
   "source": [
    "for i in range(num_node):\n",
    "    coords[i*num_node:(i+1)*num_node,1] = yseed[i]"
   ]
  },
  {
   "cell_type": "code",
   "execution_count": 12,
   "metadata": {},
   "outputs": [
    {
     "data": {
      "image/png": "[encoded data removed]",
      "text/plain": [
       "<matplotlib.figure.Figure at 0x11495b9b0>"
      ]
     },
     "metadata": {},
     "output_type": "display_data"
    }
   ],
   "source": [
    "plt.plot(coords[:,0], coords[:,1], 'b*');"
   ]
  },
  {
   "cell_type": "code",
   "execution_count": 13,
   "metadata": {
    "collapsed": true
   },
   "outputs": [],
   "source": [
    "incidence = np.zeros((num_ele**2,4))\n",
    "for i in range(num_ele):\n",
    "    for j in range(num_ele):\n",
    "        index = (i)*num_ele+j\n",
    "        incidence[index,0]=(i)*num_node+j\n",
    "        incidence[index,1]=incidence[index,0]+1\n",
    "        incidence[index,2]=incidence[index,1]+num_node\n",
    "        incidence[index,3]=incidence[index,2]-1"
   ]
  },
  {
   "cell_type": "code",
   "execution_count": 14,
   "metadata": {},
   "outputs": [
    {
     "data": {
      "text/plain": [
       "0.007744"
      ]
     },
     "execution_count": 14,
     "metadata": {},
     "output_type": "execute_result"
    }
   ],
   "source": [
    "coords.nbytes/1e6"
   ]
  },
  {
   "cell_type": "code",
   "execution_count": 15,
   "metadata": {
    "collapsed": true
   },
   "outputs": [],
   "source": [
    "np.save('incidence', incidence)\n",
    "np.save('coordinates',coords)"
   ]
  },
  {
   "cell_type": "code",
   "execution_count": 16,
   "metadata": {
    "collapsed": true
   },
   "outputs": [
    {
     "data": {
      "text/plain": [
       "array([[  0.,   1.,  23.,  22.],\n",
       "       [  1.,   2.,  24.,  23.],\n",
       "       [  2.,   3.,  25.,  24.],\n",
       "       ...,\n",
       "       [458., 459., 481., 480.],\n",
       "       [459., 460., 482., 481.],\n",
       "       [460., 461., 483., 482.]])"
      ]
     },
     "execution_count": 16,
     "metadata": {},
     "output_type": "execute_result"
    }
   ],
   "source": [
    "incidence"
   ]
  },
  {
   "cell_type": "code",
   "execution_count": null,
   "metadata": {},
   "outputs": [],
   "source": []
  }
 ],
 "metadata": {
  "kernelspec": {
   "display_name": "Python 3",
   "language": "python",
   "name": "python3"
  },
  "language_info": {
   "codemirror_mode": {
    "name": "ipython",
    "version": 3
   },
   "file_extension": ".py",
   "mimetype": "text/x-python",
   "name": "python",
   "nbconvert_exporter": "python",
   "pygments_lexer": "ipython3",
   "version": "3.6.4"
  }
 },
 "nbformat": 4,
 "nbformat_minor": 2
}
